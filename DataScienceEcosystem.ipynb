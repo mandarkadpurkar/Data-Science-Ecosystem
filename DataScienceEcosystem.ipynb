{
 "cells": [
  {
   "cell_type": "markdown",
   "id": "96cde3f5-55e4-4399-a596-1434db891381",
   "metadata": {},
   "source": [
    "#Data Science Tools and Ecosystem"
   ]
  },
  {
   "cell_type": "markdown",
   "id": "0bc97e69-1e68-4b26-94f9-7206a7d6ecda",
   "metadata": {},
   "source": [
    "In this notebook, Data Science Tools and Ecosystem are summarized."
   ]
  },
  {
   "cell_type": "markdown",
   "id": "a4394e67-04ae-41e5-94cf-0eeee19ef25d",
   "metadata": {},
   "source": [
    "***Objectives:***\n",
    "-Popular languages for Data Science\n",
    "-Popular tools for Data Science \n",
    "-Libraries for Data Science\n",
    "\n"
   ]
  },
  {
   "cell_type": "markdown",
   "id": "85ee0adb-8a28-462a-b9ee-e23b7822cb2c",
   "metadata": {},
   "source": [
    "Some of the popular languages that Data Scientists use are:\n",
    "1. Python\n",
    "2. Java\n",
    "3. SQL\n"
   ]
  },
  {
   "cell_type": "markdown",
   "id": "18c1d70c-290b-44c3-a90f-6250c463f875",
   "metadata": {},
   "source": [
    "Some of the commonly used libraries used by Data Scientists include:\n",
    "1. Pandas\n",
    "2. Numpy\n",
    "3. Seaborn\n"
   ]
  },
  {
   "cell_type": "markdown",
   "id": "74447f20-aba2-4487-aa91-370b4cf714af",
   "metadata": {},
   "source": [
    "|Data Science Tools|\n",
    "-------------------\n",
    "|Jupyter Notebook |\n",
    "|Rstudio          |\n",
    "|Spyder           |"
   ]
  },
  {
   "cell_type": "markdown",
   "id": "ce0fd5c7-f2d7-4600-ac08-a15e8014ff22",
   "metadata": {},
   "source": [
    "###Below are a few examples of evaluating arithmetic expressions in Python"
   ]
  },
  {
   "cell_type": "code",
   "execution_count": 1,
   "id": "300fa873-868e-40d6-808b-56a52addbc91",
   "metadata": {
    "tags": []
   },
   "outputs": [
    {
     "data": {
      "text/plain": [
       "17"
      ]
     },
     "execution_count": 1,
     "metadata": {},
     "output_type": "execute_result"
    }
   ],
   "source": [
    "#This a simple arithmetic expression to mutiply then add integers\n",
    "(3*4)+5"
   ]
  },
  {
   "cell_type": "code",
   "execution_count": 3,
   "id": "a0e29532-bfe8-42b8-ad08-bb769b8a37b8",
   "metadata": {
    "tags": []
   },
   "outputs": [
    {
     "name": "stdout",
     "output_type": "stream",
     "text": [
      "200 minutes are 3.3333333333333335 hours\n"
     ]
    }
   ],
   "source": [
    "#This will convert 200 minutes to hours by diving by 60\n",
    "\n",
    "a = 200\n",
    "print(f\"{a} minutes are {a/60} hours\")"
   ]
  },
  {
   "cell_type": "markdown",
   "id": "2c58fd7c-816c-4bef-bbb7-20c963e572f2",
   "metadata": {},
   "source": [
    "##Author"
   ]
  },
  {
   "cell_type": "markdown",
   "id": "c1fdf107-3ccb-4fa8-a3a0-b213a904c40d",
   "metadata": {
    "tags": []
   },
   "source": [
    "Mandar\n"
   ]
  },
  {
   "cell_type": "code",
   "execution_count": null,
   "id": "47b92d49-6986-4dce-91ec-50b3f908332e",
   "metadata": {},
   "outputs": [],
   "source": []
  }
 ],
 "metadata": {
  "kernelspec": {
   "display_name": "Python",
   "language": "python",
   "name": "conda-env-python-py"
  },
  "language_info": {
   "codemirror_mode": {
    "name": "ipython",
    "version": 3
   },
   "file_extension": ".py",
   "mimetype": "text/x-python",
   "name": "python",
   "nbconvert_exporter": "python",
   "pygments_lexer": "ipython3",
   "version": "3.7.12"
  }
 },
 "nbformat": 4,
 "nbformat_minor": 5
}
